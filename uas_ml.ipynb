{
 "cells": [
  {
   "attachments": {},
   "cell_type": "markdown",
   "metadata": {},
   "source": [
    "# UAS MACHINE LEARNING ESA UNGGUL"
   ]
  },
  {
   "attachments": {},
   "cell_type": "markdown",
   "metadata": {},
   "source": [
    "# SOAL 4 A\n",
    "\n",
    "Lakukan import Library Pandas dan Library Numpy"
   ]
  },
  {
   "cell_type": "code",
   "execution_count": 1,
   "metadata": {},
   "outputs": [],
   "source": [
    "#Jawaban\n",
    "#Import Library Pandas\n",
    "\n",
    "\n",
    "#Import Library Numpy\n",
    "import pandas as pd\n",
    "import numpy as np\n",
    "\n",
    "\n",
    "\n"
   ]
  },
  {
   "attachments": {},
   "cell_type": "markdown",
   "metadata": {},
   "source": [
    "# SOAL 4 B\n",
    "DATAFRAME\n",
    "\n",
    "DataFrame adalah struktur data 2 dimensi yang berbentuk tabular (mempunyai baris dan kolom). Hampir semua data tidak hanya memiliki 1 kolom tetapi lebih dari 1 kolom, sehingga lebih cocok menggunakan pandas DataFrame untuk mengolahnya.\n",
    "\n",
    "Penggunaan dataframe pada Python dengan menggunakan syntaks: df."
   ]
  },
  {
   "cell_type": "code",
   "execution_count": 4,
   "metadata": {},
   "outputs": [],
   "source": [
    "#Jawaban\n",
    "#Panggil file (load file bernama Iris.csv) dan simpan dalam dataframe \n",
    "\n",
    "df = pd.read_csv('Iris.csv')\n"
   ]
  },
  {
   "attachments": {},
   "cell_type": "markdown",
   "metadata": {},
   "source": [
    "# SOAL 4 C\n",
    "Telaah Data\n",
    "Pada telaah data, dapat dilakukan untuk mengetahui:\n",
    "- tipe data dari setiap kolom\n",
    "- deskripsi statistik data"
   ]
  },
  {
   "cell_type": "code",
   "execution_count": 5,
   "metadata": {},
   "outputs": [
    {
     "name": "stdout",
     "output_type": "stream",
     "text": [
      "Id                 int64\n",
      "SepalLengthCm    float64\n",
      "SepalWidthCm     float64\n",
      "PetalLengthCm    float64\n",
      "PetalWidthCm     float64\n",
      "Species           object\n",
      "dtype: object\n",
      "               Id  SepalLengthCm  SepalWidthCm  PetalLengthCm  PetalWidthCm\n",
      "count  150.000000     150.000000    150.000000     150.000000    150.000000\n",
      "mean    75.500000       5.843333      3.054000       3.758667      1.198667\n",
      "std     43.445368       0.828066      0.433594       1.764420      0.763161\n",
      "min      1.000000       4.300000      2.000000       1.000000      0.100000\n",
      "25%     38.250000       5.100000      2.800000       1.600000      0.300000\n",
      "50%     75.500000       5.800000      3.000000       4.350000      1.300000\n",
      "75%    112.750000       6.400000      3.300000       5.100000      1.800000\n",
      "max    150.000000       7.900000      4.400000       6.900000      2.500000\n"
     ]
    }
   ],
   "source": [
    "#Jawaban\n",
    "#Tampilkan tipe data dari kolom yang ada pada dataset\n",
    "\n",
    "print(df.dtypes)\n",
    "print(df.describe())"
   ]
  },
  {
   "attachments": {},
   "cell_type": "markdown",
   "metadata": {},
   "source": [
    "# SOAL 4 D\n",
    "\n",
    "Apakah tipe Data dari kolom berikut ini: (silakan diisi pada cell di bawah ini)\n"
   ]
  },
  {
   "cell_type": "code",
   "execution_count": 6,
   "metadata": {},
   "outputs": [],
   "source": [
    "#Jawaban\n",
    "#Tipe Data dari kolom yang ada di dataset\n",
    "\n",
    "#kolom  \"Id\" memiliki tipe data = ................ <isikan jawaban di sini>\n",
    "#Kolom \"SepalLengthCm\" memiliki tipe data = ...... <isikan jawaban di sini>\n",
    "#Kolom \"Species\" memiliki tipe data = ............ <isikan jawaban di sini>\n",
    "\n",
    "#1 \"SepalLengthCm \" memiliki tipe data float64\n",
    "#2 \"SepalWidthCm \" memiliki tipe data float64\n",
    "#3 \"SepalLengthCm \" memiliki tipe data float64\n",
    "#4 \"SepalWidthCm \" memiliki tipe data float64\n",
    "#5 \"SepalLengthCm \" memiliki tipe data float64"
   ]
  },
  {
   "attachments": {},
   "cell_type": "markdown",
   "metadata": {},
   "source": [
    "# SOAL 4 E\n",
    "\n",
    "Hitunglah ukuran (jumlah baris dan kolom) dari dataset. "
   ]
  },
  {
   "cell_type": "code",
   "execution_count": 7,
   "metadata": {},
   "outputs": [
    {
     "name": "stdout",
     "output_type": "stream",
     "text": [
      "(150, 6)\n",
      "150\n",
      "6\n"
     ]
    }
   ],
   "source": [
    "#Latihan (6)\n",
    "#Hitung ukuran (jumlah baris dan kolom) dari dataset = pada dataframe memiliki 150 baris dan 6 kolom\n",
    "print(df.shape)\n",
    "print(len(df))\n",
    "print(len(df.columns))"
   ]
  },
  {
   "attachments": {},
   "cell_type": "markdown",
   "metadata": {},
   "source": [
    "# SOAL 4 F\n",
    "\n",
    "Tampilkan data yang hanya berisi kolom \"Id\" dan kolom \"Species\" dalam bentuk dataframe."
   ]
  },
  {
   "cell_type": "code",
   "execution_count": 8,
   "metadata": {},
   "outputs": [
    {
     "name": "stdout",
     "output_type": "stream",
     "text": [
      "      Id         Species\n",
      "0      1     Iris-setosa\n",
      "1      2     Iris-setosa\n",
      "2      3     Iris-setosa\n",
      "3      4     Iris-setosa\n",
      "4      5     Iris-setosa\n",
      "..   ...             ...\n",
      "145  146  Iris-virginica\n",
      "146  147  Iris-virginica\n",
      "147  148  Iris-virginica\n",
      "148  149  Iris-virginica\n",
      "149  150  Iris-virginica\n",
      "\n",
      "[150 rows x 2 columns]\n"
     ]
    }
   ],
   "source": [
    "#Jawaban\n",
    "#Tampilkan data untuk kolom \"Id\" dan kolom \"Species\" dalam bentuk dataframe\n",
    "selected_columns = df[[\"Id\", \"Species\"]]\n",
    "print(selected_columns)"
   ]
  },
  {
   "attachments": {},
   "cell_type": "markdown",
   "metadata": {},
   "source": [
    "# SOAL 4 G\n",
    "\n",
    "Tampilkan data dengan dataframe, dan data yang ditampilkan adalah data pada baris dengan indeks 0 (nol) sampai dengan indeks 9 (sembilan)"
   ]
  },
  {
   "cell_type": "code",
   "execution_count": 9,
   "metadata": {},
   "outputs": [
    {
     "name": "stdout",
     "output_type": "stream",
     "text": [
      "   Id  SepalLengthCm  SepalWidthCm  PetalLengthCm  PetalWidthCm      Species\n",
      "0   1            5.1           3.5            1.4           0.2  Iris-setosa\n",
      "1   2            4.9           3.0            1.4           0.2  Iris-setosa\n",
      "2   3            4.7           3.2            1.3           0.2  Iris-setosa\n",
      "3   4            4.6           3.1            1.5           0.2  Iris-setosa\n",
      "4   5            5.0           3.6            1.4           0.2  Iris-setosa\n",
      "5   6            5.4           3.9            1.7           0.4  Iris-setosa\n",
      "6   7            4.6           3.4            1.4           0.3  Iris-setosa\n",
      "7   8            5.0           3.4            1.5           0.2  Iris-setosa\n",
      "8   9            4.4           2.9            1.4           0.2  Iris-setosa\n",
      "9  10            4.9           3.1            1.5           0.1  Iris-setosa\n"
     ]
    }
   ],
   "source": [
    "#Jawaban\n",
    "#Tampilkan data dengan dataframe, dan data yang ditampilkan adalah baris dengan indeks 0 (nol) sampai dengan indeks 9 (sembilan)\n",
    "print(df[0:10])"
   ]
  },
  {
   "attachments": {},
   "cell_type": "markdown",
   "metadata": {},
   "source": [
    "# SOAL 4 H\n",
    "\n",
    "Tampilkan data hanya kolom \"Id\" dan kolom \"Species\" dengan dataframe, dan yang ditampilkan adalah data pada baris dengan indeks 11 (sebelas) sampai dengan indeks 15 (limabelas)"
   ]
  },
  {
   "cell_type": "code",
   "execution_count": 10,
   "metadata": {},
   "outputs": [
    {
     "name": "stdout",
     "output_type": "stream",
     "text": [
      "    Id      Species\n",
      "11  12  Iris-setosa\n",
      "12  13  Iris-setosa\n",
      "13  14  Iris-setosa\n",
      "14  15  Iris-setosa\n",
      "15  16  Iris-setosa\n",
      "index of Species kolom 5\n"
     ]
    }
   ],
   "source": [
    "#Jawaban\n",
    "#Tampilkan data hanya kolom \"Id\" dan kolom \"Species\" dengan dataframe, dan yang ditampilkan adalah data pada baris dengan indeks 11 (sebelas) sampai dengan indeks 15 (limabelas)\n",
    "selected_columns = df[[\"Id\", \"Species\"]]\n",
    "print(selected_columns[11:16])\n",
    "\n",
    "\n",
    "kolom = \"Species\"\n",
    "indexno = df.columns.get_loc(kolom)\n",
    "\n",
    "print (\"index of {} kolom {}\".format(kolom, indexno))"
   ]
  },
  {
   "attachments": {},
   "cell_type": "markdown",
   "metadata": {},
   "source": [
    "# SOAL 4 I\n",
    "\n",
    "Pada DataFrame dapat menampilkan beberapa baris pertama/terakhir dari dataset yang di load. Gunakan Method head() dan tail().\n",
    "\n",
    "Latihan: Tampilkan data pada 8 (delapan) baris pertama dari dataset, dengan dataframe."
   ]
  },
  {
   "cell_type": "code",
   "execution_count": 11,
   "metadata": {},
   "outputs": [
    {
     "name": "stdout",
     "output_type": "stream",
     "text": [
      "   Id  SepalLengthCm  SepalWidthCm  PetalLengthCm  PetalWidthCm      Species\n",
      "0   1            5.1           3.5            1.4           0.2  Iris-setosa\n",
      "1   2            4.9           3.0            1.4           0.2  Iris-setosa\n",
      "2   3            4.7           3.2            1.3           0.2  Iris-setosa\n",
      "3   4            4.6           3.1            1.5           0.2  Iris-setosa\n",
      "4   5            5.0           3.6            1.4           0.2  Iris-setosa\n",
      "5   6            5.4           3.9            1.7           0.4  Iris-setosa\n",
      "6   7            4.6           3.4            1.4           0.3  Iris-setosa\n",
      "7   8            5.0           3.4            1.5           0.2  Iris-setosa\n",
      "      Id  SepalLengthCm  SepalWidthCm  PetalLengthCm  PetalWidthCm  \\\n",
      "142  143            5.8           2.7            5.1           1.9   \n",
      "143  144            6.8           3.2            5.9           2.3   \n",
      "144  145            6.7           3.3            5.7           2.5   \n",
      "145  146            6.7           3.0            5.2           2.3   \n",
      "146  147            6.3           2.5            5.0           1.9   \n",
      "147  148            6.5           3.0            5.2           2.0   \n",
      "148  149            6.2           3.4            5.4           2.3   \n",
      "149  150            5.9           3.0            5.1           1.8   \n",
      "\n",
      "            Species  \n",
      "142  Iris-virginica  \n",
      "143  Iris-virginica  \n",
      "144  Iris-virginica  \n",
      "145  Iris-virginica  \n",
      "146  Iris-virginica  \n",
      "147  Iris-virginica  \n",
      "148  Iris-virginica  \n",
      "149  Iris-virginica  \n"
     ]
    }
   ],
   "source": [
    "#Jawaban\n",
    "#Tampilkan data pada 8 (delapan) baris pertama dari dataset, dengan dataframe\n",
    "df = pd.read_csv(\"Iris.csv\")\n",
    "print(df.head(8))\n",
    "print(df.tail(8))"
   ]
  },
  {
   "attachments": {},
   "cell_type": "markdown",
   "metadata": {},
   "source": [
    "## Selamat Berjuang Ujian Akhir Semester ##\n"
   ]
  }
 ],
 "metadata": {
  "kernelspec": {
   "display_name": "Python 3",
   "language": "python",
   "name": "python3"
  },
  "language_info": {
   "codemirror_mode": {
    "name": "ipython",
    "version": 3
   },
   "file_extension": ".py",
   "mimetype": "text/x-python",
   "name": "python",
   "nbconvert_exporter": "python",
   "pygments_lexer": "ipython3",
   "version": "3.10.8"
  },
  "vscode": {
   "interpreter": {
    "hash": "f2ccb58c476f33ba3e3aee7ac07234ef6b8217ef24ad64d2a7d4fed1a57c1cd2"
   }
  }
 },
 "nbformat": 4,
 "nbformat_minor": 4
}
